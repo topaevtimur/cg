{
 "cells": [
  {
   "cell_type": "markdown",
   "metadata": {
    "slideshow": {
     "slide_type": "slide"
    }
   },
   "source": [
    "  # Граф видимости и планирование движения"
   ]
  },
  {
   "cell_type": "markdown",
   "metadata": {
    "slideshow": {
     "slide_type": "slide"
    }
   },
   "source": [
    "## Нахождение любого пути между точками с препятствиями"
   ]
  },
  {
   "cell_type": "markdown",
   "metadata": {
    "slideshow": {
     "slide_type": "fragment"
    }
   },
   "source": [
    "Для начала рассмотрим движение материальной точки.<br>\n",
    "<img src=\"images/trap_map.png\" style=\"float: right; width: 250px\" />\n",
    "Эту задачу можно решить с помощью трапецоидной карты. По ней строится граф, ребра которого соединяют центры трапедоидов, а также начальную и конечную вершины с серединами вертикальных сторон трапецоидов. В таком графе ищется путь между начальной и конечной вершинами.<br>\n",
    "Если точки лежат внутри одного трапецоида — ответ найден. Иначе идём из стартовой точки в центр её трапецоида, далее по построенным рёбрам ищем трапецоид содержащий финальную точку. Для этого можно использовать поиск в ширину или другой алгоритм нахождения кратчайшего пути в графе. В итоге мы соединяем середину последнего трапецоида с конечной вершиной.<br>\n",
    "Данный алгоритм работает за $O(n \\log n)$ и за линейное количество памяти и хорошо подходит для нахождения какого-нибудь пути между парой данных вершин. Но если нужно найти кратчайший путь, этот алгоритм не подходит, хоть и работает быстро. Однако, решения нахождения кратчайшего пути в лучшем случае работают за $O(n^2)$ времени и памяти (здесь и далее $n$ — количество всех вершин).\n"
   ]
  },
  {
   "cell_type": "markdown",
   "metadata": {
    "collapsed": true,
    "slideshow": {
     "slide_type": "slide"
    }
   },
   "source": [
    "## Нахождение кратчайшего пути между точками с препятствиями"
   ]
  },
  {
   "cell_type": "markdown",
   "metadata": {
    "collapsed": true,
    "slideshow": {
     "slide_type": "fragment"
    }
   },
   "source": [
    "### Граф видимости\n",
    "Рассмотрим точное решение нахождения кратчайшего пути на плоскости между двумя точками с полигональными препятствиями с помощью построения графа видимости. После его построения, как и в случае с трапецоидной картой, кратчайший путь ищется любым стандартным алгоритмом поиска (например, алгоритмом Дейкстры).<br>\n",
    "Для простоты рассуждений начальную и конечную вершины будем считать вершинами полигонов."
   ]
  },
  {
   "cell_type": "markdown",
   "metadata": {
    "collapsed": true,
    "slideshow": {
     "slide_type": "slide"
    }
   },
   "source": [
    "<img src=\"images/short_cut.png\" style=\"float: right; width: 250px\" />\n",
    "**Лемма (о кратчайшем пути)**<br>\n",
    "*Всякий кратчайший путь между $p_s$ и $p_f$ среди множества S непересекающихся многоугольных объектов является ломаной, внутренние вершины которой совпадают с вершинами $S$*<br>\n",
    "$\\triangleright$\n",
    "<div style=\"padding-left:40px\">\n",
    "Предположим противное — что кратчайший путь $\\tau$  не является ломаной. Т.к. все препятствия — многоугольники, то это означает, что существует точка p, принадлежащая $\\tau$, которая находится во внутренности свободного пространства и обладает тем свойством, что ни один отрезок прямой, содержащий $p$, не принадлежит $\\tau$. Поскольку $p$ находится во внутренности свободного пространства, то существует круг положильного радиуса с цетром в $p$, целиком принадлежащий свободному пространству. Но тогда часть $\\tau$  внутри круга, не являющуюся отрезком прямой, можно укоротить, заменив ее отрезком, который соединяет точки, где эта часть входит в круг и выходит из него. Это противоречит оптимальности $\\tau$, поскольку всякий кратчайший путь должен быть и локально кратчайшим, т.е. любая его часть, соединяющая точки $q$ и $r$, должна быть кратчайшим путем из $q$ в $r$.\n",
    "\n",
    "Теперь рассмотрим какую-нибудь вершину $v$ на пути $\\tau$. Она не может находиться во внутренности свободного пространства: тогда существовал бы круг с цетром в $p$, целиком лежащий в свободном пространстве, и мы смогли бы заменить ту часть $\\tau$  внутри этого круга, которая поворачивает в $v$, более коротким отрезком прямой. Аналогично $v$ не может находиться в относительной внутренности ребра препятствия: тогда сущетствовал бы круг с центров в $p$, половина которого находилась бы в свободном пространстве, и мы снова смогли бы заменить часть пути внутри круга более коротким отрезком прямой. Остается единственная возможность — $v$ является вершиной препятствия.\n",
    "</div>\n",
    "\n",
    "\n",
    "$\\triangleleft$"
   ]
  },
  {
   "cell_type": "markdown",
   "metadata": {
    "collapsed": true,
    "slideshow": {
     "slide_type": "slide"
    }
   },
   "source": [
    "**Определение:**<br>\n",
    "Говорят, что вершина $u$ *видна* из $v$, если отрезок $uv$ не пересекает ни одного препятствия."
   ]
  },
  {
   "cell_type": "markdown",
   "metadata": {
    "slideshow": {
     "slide_type": "fragment"
    }
   },
   "source": [
    "**Определение:**<br>\n",
    "*Граф видимости* (англ. visibility graph) — граф, вершины которого — вершины полигонов. Между вершинами $u$ и $v$ существует ребро, если из $u$ *видна* $v$.<br>\n",
    "\n",
    "В худшем случае в таком графе может быть $O(n^2)$ ребер. Однако по некоторым ребрам кратчайший путь точно не пройдет, и такие ребра из графа можно удалить."
   ]
  },
  {
   "cell_type": "markdown",
   "metadata": {
    "slideshow": {
     "slide_type": "slide"
    }
   },
   "source": [
    "<img src=\"images/delete_edge.png\" style=\"float: right; width: 150px\" />\n",
    "**Лемма (о неиспользуемых вершинах)**<br>\n",
    "* *Если существуют вершины $A$, $B$, $C$ одного препятствия и вершина $D$ такая, что поворот $DBA$ не совпадает с поворотом $DBC$, то ребро $DB$ не принадлежит кратчайшему пути и его можно удалить из графа. (См. поясняющую картинку справа)*\n",
    "* *Все внутренние вершины, кроме вырожденного случая, (начальная/конечная точка лежит внутри выпуклой оболочки фигуры) можно игнорировать.*\n",
    "\n",
    "$\\triangleright$\n",
    "<div style=\"padding-left:40px\">\n",
    "* Путь проходящий через ребро $BD$ будет длиннее, чем через соседей точки $B$, так как по неравенству треугольника $AB + BD > AD$\n",
    "* Если случай не вырожденный, значит заход внутрь фигуры только увеличит суммарный путь, так как по неравенству треугольника расстояние между соседними выпуклыми вершинами всегда меньше суммы расстояний с учётом внутренней.\n",
    "\n",
    "</div>\n",
    "\n",
    "\n",
    "$\\triangleleft$ \n",
    "\n",
    "По доказанным выше леммам любое ребро кратчайшего пути содержится в графе. Таким образом, для нахождения кратчайшего пути осталось найти кратчайший путь в этом графе от начальной до конечной вершины."
   ]
  },
  {
   "cell_type": "markdown",
   "metadata": {
    "slideshow": {
     "slide_type": "slide"
    }
   },
   "source": [
    "## Построение графа видимости"
   ]
  },
  {
   "cell_type": "markdown",
   "metadata": {
    "slideshow": {
     "slide_type": "fragment"
    }
   },
   "source": [
    "### Наивный алгоритм $(O(n ^ 3))$\n",
    "Для каждой пары вершин проверяем, можно ли добавить ребро между ними, то есть нет ли пересечений с полигонами. $O(n^2)$ пар вершин и $O(n)$ ребер, то есть $O(n^3)$.<br>\n",
    "Ниже представлена визуализация алгоритма для двух выпуклых полигонов."
   ]
  },
  {
   "cell_type": "code",
   "execution_count": 7,
   "metadata": {
    "slideshow": {
     "slide_type": "skip"
    }
   },
   "outputs": [
    {
     "data": {
      "image/png": "[encoded data removed]",
      "text/plain": [
       "<matplotlib.figure.Figure at 0x7fdfbb580630>"
      ]
     },
     "metadata": {},
     "output_type": "display_data"
    },
    {
     "name": "stdout",
     "output_type": "stream",
     "text": [
      "Accepted\n"
     ]
    }
   ],
   "source": [
    "from naive_algorithm import *\n",
    "\n",
    "def build_graph_naive(first_polygon, second_polygon):\n",
    "    \n",
    "    # Здесь читателю прдлагается релизовать наивное построение графа видимости\n",
    "    # Лемму о неиспользуемых вершинах НУЖНО игнорировать\n",
    "    \n",
    "    # first_polygon, second_polygon - массивы точек, образующие полигоны\n",
    "    \n",
    "    # нужно вернуть массив пар точек между которыми есть ребра в графе видимости\n",
    "    \n",
    "    return naive_algorithm(first_polygon, second_polygon) # заглушка\n",
    "\n",
    "naive_task(build_graph_naive) "
   ]
  },
  {
   "cell_type": "markdown",
   "metadata": {
    "slideshow": {
     "slide_type": "slide"
    }
   },
   "source": [
    "### Построение заметающим лучом $(O(n ^ 2 \\log n))$"
   ]
  },
  {
   "cell_type": "markdown",
   "metadata": {
    "slideshow": {
     "slide_type": "subslide"
    }
   },
   "source": [
    "\n",
    "<img src=\"images\\zamrefr_1.png\" style=\"float: left \" />\n",
    "<img src=\"images\\zamrefr_2.png\" style=\"float: left\" />\n",
    "<img src=\"images\\zamrefr_3.png\" style=\"float: left\" />"
   ]
  },
  {
   "cell_type": "markdown",
   "metadata": {
    "slideshow": {
     "slide_type": "subslide"
    }
   },
   "source": [
    "Идея алгоритма проста: для каждой вершины найдем видимые из нее вершины. Если научиться делать это за $O(n \\log  n)$, задача решена, так как всего точек $n$.<br>\n",
    "\n",
    "Для каждой вершины будем рассматривать только правую половину плоскости, так как ребра, которые должны идти в левую половину, будут исходить из вершин, для которых текущая вершина будет справа.<br>\n",
    "\n",
    "**Переформулируем задачу.**<br>\n",
    "*Дано:* точка $v$ и множество отрезков — ребер препятствий.<br> \n",
    "*Найти:* множество концов отрезков, видимых из $v$.<br>\n",
    "\n",
    "Для решения этой задачи будем использовать заметающий луч с началом в точке $v$. Его статусом будут отрезки, которые его пересекают, упорядоченные по возрастанию расстояния от точки $v$ до точки пересечения.\n",
    "\n",
    "Точками событий будут концы отрезков.<br>\n",
    "Пустим луч из рассматриваемой вершины $v$ вертикально вверх и добавим в статус все отрезки, которые он пересекает, по увеличению расстояния до них. \n",
    "\n",
    "Теперь будем рассматривать точки $w \\in V$ в порядке сортировки по углу между $v$ и вертикальной полуосью $l$. \n",
    "\n",
    "При таком обходе для проверки видимости вершины достаточно проверить пересечение с ближайшим к $v$ отрезком, то есть первым в статусе (так как отрезки отсортированы по расстоянию до них). \n",
    "\n",
    "Действительно, если вершина $w$ не видна, то отрезок $vw$ пересекает несколько отрезков, лежащих перед $w$, а значит и ближайший. В противном случае все пересекаемые лучом отрезки лежат за вершиной $w$ и пересечения отрезка $vw$ с ближайшим отрезком не будет. Вне зависимости от видимости вершины, необходимо изменить статус заметающего луча. \n",
    "\n",
    "Для этого необходимо удалить из статуса все отрезки, которые заканчиваются вершине $w$ (лежат слева от прямой $vw$) и добавить все отрезки, которые в ней начинаются (лежат справа от прямой $vw$).<br>\n",
    "\n",
    "В качестве статуса нужно использовать структуру данных, позволяющую добавлять и удалять из нее отрезки за $O(\\log n)$ и извлекать минимум за $O(1)$ или $O(\\log n)$. В этом случае достигается асимптотика $O(n^2 \\log n)$, так как для каждой из $n$ точек выполняется сортировка за $O(n \\log n)$, обновление статуса (суммарно $O(n \\log n)$, так как каждый отрезок добавляется и удаляется из статуса не более одного раза) и запросы ближайшего отрезка ($O(\\log n)$ или $O(1)$ на точку, то есть $O(n \\log n)$ или $O(n)$).\n",
    "\n",
    "Напомним, что для вычисления всего графа видимости нужно найти ответ для каждой из $n$ вершин. Получаем следующию теорему "
   ]
  },
  {
   "cell_type": "markdown",
   "metadata": {
    "slideshow": {
     "slide_type": "slide"
    }
   },
   "source": [
    "**Теорема**<br>\n",
    "*Граф видимости множества $S$ непересекающихся многоугольных препятствий, имеющих в совокупности $n$ ребер, можно вычислить за время $O(n^2\\log n)$*<br>"
   ]
  },
  {
   "cell_type": "code",
   "execution_count": null,
   "metadata": {
    "collapsed": true,
    "slideshow": {
     "slide_type": "skip"
    }
   },
   "outputs": [],
   "source": [
    "from sweep_line_algorithm import *\n",
    "\n",
    "def build_graph_fast(point, polygon):\n",
    "    \n",
    "    # Здесь читателю прдлагается релизовать построение графа видимости с помощью заметающей прямой\n",
    "    \n",
    "    # point - точка v из описания алгоритма\n",
    "    # polygon - массив точек w, образующий полигон\n",
    "    \n",
    "    # нужно вернуть массив точек видимых из v\n",
    "    \n",
    "    return naive_algorithm(point, polygon) # заглушка\n",
    "\n",
    "sweep_task(build_graph_fast) "
   ]
  },
  {
   "cell_type": "markdown",
   "metadata": {
    "collapsed": true,
    "slideshow": {
     "slide_type": "slide"
    }
   },
   "source": [
    "## Планирование движения\n",
    "<img src=\"images/m_plan.png\" style=\"float: right\" />\n",
    "Рассмотрим задачу нахождения кратчайшего пути, когда движимый объект — это выпуклый полигон. Например, робот, которого надо доставить из начальной в конечную точку.<br>\n",
    "\n",
    "Если полигон вращать нельзя, задача сводится к движению точки так: выбирается точка на полигоне, которая принимается за начало координат. В такой системе координат для каждого препятствия считается сумма Минковского с полигоном. Получаются бОльшие препятствия, но теперь достаточно двигать выбранную точку, что было описано выше.<br>\n",
    "\n",
    "Если полигон можно вращать, задача нахождения кратчайшего пути становится достаточно ресурсоёмка, поэтому обычно рассматривают задачу нахождения какого-нибудь пути между конечными точками.<br>\n",
    "\n",
    "Первый шаг решения этой задачи совпадает с предыдущим случаем: выберем точку и построим сумму Минковского препятствий с полигоном. Рассмотрим малый угол $\\varepsilon$. Представим, что поворот полигона на этот угол — это движение вверх-вниз между слоями, на каждом из которых посчитана сумма Минковского с полигоном, повернутым на этот угол.<br>\n",
    "\n",
    "На каждом слое построим трапецоидную карту и граф, как описано в начале. Если пересечь соседние слои и добавить между их графами ребра, получится один большой граф, в котором ищется кратчайший путь.<br>\n",
    "\n",
    "При таком подходе может возникнуть ошибка при пересечении слоев: на каждом слое состояния будут допустимые, а осуществить поворот физически будет невозможно. Обычно, эту проблему решают двумя способами: измельчением угла поворота и изначальным сглаживанием углов полигона. Первый способ повышает не только точность решения, но и вычислительную сложность задачи. Второй подход практически исключает возможность нахождения пути, когда его нет, но повышает вероятность \"ненахождения\" пути, когда он есть."
   ]
  }
 ],
 "metadata": {
  "kernelspec": {
   "display_name": "Python 3",
   "language": "python",
   "name": "python3"
  },
  "language_info": {
   "codemirror_mode": {
    "name": "ipython",
    "version": 3
   },
   "file_extension": ".py",
   "mimetype": "text/x-python",
   "name": "python",
   "nbconvert_exporter": "python",
   "pygments_lexer": "ipython3",
   "version": "3.6.2"
  }
 },
 "nbformat": 4,
 "nbformat_minor": 2
}
